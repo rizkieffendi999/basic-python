{
 "cells": [
  {
   "cell_type": "code",
   "execution_count": null,
   "metadata": {},
   "outputs": [
    {
     "name": "stdout",
     "output_type": "stream",
     "text": [
      "Selamat datang!\n",
      "--Menu--\n",
      "1. Daftar Kontak\n",
      "2. Tambah Kontak\n",
      "3. Keluar\n"
     ]
    },
    {
     "name": "stdin",
     "output_type": "stream",
     "text": [
      "Pilih menu (hanya angka): 2\n",
      "Nama :  Juna\n",
      "Nomer Telepon :  98989898989\n"
     ]
    },
    {
     "name": "stdout",
     "output_type": "stream",
     "text": [
      "Kontak berhasil ditambahkan\n",
      "--Menu--\n",
      "1. Daftar Kontak\n",
      "2. Tambah Kontak\n",
      "3. Keluar\n"
     ]
    },
    {
     "name": "stdin",
     "output_type": "stream",
     "text": [
      "Pilih menu (hanya angka): 2\n",
      "Nama :  janu\n",
      "Nomer Telepon :  0808080808080\n"
     ]
    },
    {
     "name": "stdout",
     "output_type": "stream",
     "text": [
      "Kontak berhasil ditambahkan\n",
      "--Menu--\n",
      "1. Daftar Kontak\n",
      "2. Tambah Kontak\n",
      "3. Keluar\n"
     ]
    },
    {
     "name": "stdin",
     "output_type": "stream",
     "text": [
      "Pilih menu (hanya angka): 1\n"
     ]
    },
    {
     "name": "stdout",
     "output_type": "stream",
     "text": [
      "Daftar Kontak:\n",
      "Nama: Fawwaz\n",
      "Nomer Telepon: 08123456789\n",
      "Nama: John\n",
      "Nomer Telepon: 08987654321\n",
      "Nama: Juna\n",
      "Nomer Telepon: 98989898989\n",
      "Nama: janu\n",
      "Nomer Telepon: 0808080808080\n",
      "--Menu--\n",
      "1. Daftar Kontak\n",
      "2. Tambah Kontak\n",
      "3. Keluar\n"
     ]
    }
   ],
   "source": [
    "print (\"Selamat datang!\")\n",
    "\n",
    "nama_kontak = [\"Fawwaz\", \"John\"]\n",
    "nomer_kontak = [\"08123456789\",\"08987654321\"]\n",
    "\n",
    "def show_menu():\n",
    "    print (\"--Menu--\")\n",
    "    print (\"1. Daftar Kontak\")\n",
    "    print (\"2. Tambah Kontak\")\n",
    "    print (\"3. Keluar\")\n",
    "\n",
    "def tampilkan_kontak():\n",
    "    print(\"Daftar Kontak:\")\n",
    "    for i in range(len(nama_kontak)):\n",
    "        print(\"Nama: {}\".format(nama_kontak[i]))\n",
    "        print(\"Nomer Telepon: {}\".format(nomer_kontak[i]))\n",
    "    \n",
    "def tambah_kontak():\n",
    "    nama = input(\"Nama : \")\n",
    "    nomer = str(input(\"Nomer Telepon : \"))\n",
    "    nama_kontak.append(nama)\n",
    "    nomer_kontak.append(nomer)\n",
    "    print(\"Kontak berhasil ditambahkan\")\n",
    "        \n",
    "while True:\n",
    "    show_menu()\n",
    "    \n",
    "    menu = int(input(\"Pilih menu (hanya angka):\"))\n",
    "    \n",
    "    if menu == 1: \n",
    "        tampilkan_kontak()\n",
    "    elif menu == 2: \n",
    "        tambah_kontak()\n",
    "    elif menu == 3: \n",
    "        print(\"Program selesai, sampai jumpa!\")\n",
    "        break\n",
    "    else: \n",
    "        print (\"Menu tidak tersedia\")\n",
    "        "
   ]
  }
 ],
 "metadata": {
  "kernelspec": {
   "display_name": "Python 3",
   "language": "python",
   "name": "python3"
  },
  "language_info": {
   "codemirror_mode": {
    "name": "ipython",
    "version": 3
   },
   "file_extension": ".py",
   "mimetype": "text/x-python",
   "name": "python",
   "nbconvert_exporter": "python",
   "pygments_lexer": "ipython3",
   "version": "3.8.3"
  }
 },
 "nbformat": 4,
 "nbformat_minor": 4
}
