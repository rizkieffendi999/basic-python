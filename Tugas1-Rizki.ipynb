{
 "cells": [
  {
   "cell_type": "code",
   "execution_count": null,
   "metadata": {},
   "outputs": [],
   "source": [
    "#1"
   ]
  },
  {
   "cell_type": "code",
   "execution_count": 25,
   "metadata": {},
   "outputs": [
    {
     "name": "stdin",
     "output_type": "stream",
     "text": [
      "Masukkan nama:  Rizki\n",
      "Masukkan Umur (hanya angka):  18\n",
      "Masukkan Tinggi (hanya angka):  201.5557\n"
     ]
    },
    {
     "name": "stdout",
     "output_type": "stream",
     "text": [
      "Nama saya Rizki, umur saya 18 tahun dan tinggi saya 201.5557 cm\n"
     ]
    }
   ],
   "source": [
    "nama = str(input(\"Masukkan nama: \" ))\n",
    "umur = int(input(\"Masukkan Umur (hanya angka): \"))\n",
    "tinggi = float(input(\"Masukkan Tinggi (hanya angka): \"))          \n",
    "\n",
    "umurstr = str(umur)\n",
    "tinggistr = str(tinggi)\n",
    "\n",
    "print(\"Nama saya \" + nama + \",\" \" \" \"umur saya \" + umurstr + \" tahun dan tinggi saya \" + tinggistr + \" cm\")"
   ]
  },
  {
   "cell_type": "code",
   "execution_count": null,
   "metadata": {},
   "outputs": [],
   "source": [
    "#2"
   ]
  },
  {
   "cell_type": "code",
   "execution_count": 29,
   "metadata": {},
   "outputs": [
    {
     "name": "stdin",
     "output_type": "stream",
     "text": [
      "Masukkan jari-jari lingkaran (hanya angka): 10\n"
     ]
    },
    {
     "name": "stdout",
     "output_type": "stream",
     "text": [
      "Luas lingkaran dengan jari-jari 10 cm adalah 314.29 cm²\n"
     ]
    }
   ],
   "source": [
    "jarijari = int(input(\"Masukkan jari-jari lingkaran (hanya angka):\"))\n",
    "rumus = round((22/7)*(jarijari**2),2)\n",
    "\n",
    "jarijaristr = str(jarijari)\n",
    "rumusstr = str(rumus)\n",
    "\n",
    "print(\"Luas lingkaran dengan jari-jari \" + jarijaristr + \" cm adalah \" + rumusstr + \" cm\\u00b2\")\n"
   ]
  },
  {
   "cell_type": "code",
   "execution_count": null,
   "metadata": {},
   "outputs": [],
   "source": [
    "#3"
   ]
  },
  {
   "cell_type": "code",
   "execution_count": 33,
   "metadata": {},
   "outputs": [
    {
     "name": "stdin",
     "output_type": "stream",
     "text": [
      "Masukkan nilai ujian teori :  50\n",
      "Masukkan nilai ujian praktek :  50\n"
     ]
    },
    {
     "name": "stdout",
     "output_type": "stream",
     "text": [
      "Anda harus mengulang ujian teori dan praktek\n"
     ]
    }
   ],
   "source": [
    "teori = float(input(\"Masukkan nilai ujian teori : \"))\n",
    "praktek = float(input (\"Masukkan nilai ujian praktek : \"))\n",
    "\n",
    "if teori >= 70 and praktek >= 70:\n",
    "        print(\"Selamat, anda lulus!\")\n",
    "elif teori >= 70 and praktek < 70:\n",
    "    print(\"Anda harus mengulang ujian praktek\")\n",
    "elif teori < 70 and praktek >= 70:\n",
    "    print(\"Anda harus mengulang ujian teori\")\n",
    "else:\n",
    "    print(\"Anda harus mengulang ujian teori dan praktek\")"
   ]
  },
  {
   "cell_type": "code",
   "execution_count": null,
   "metadata": {},
   "outputs": [],
   "source": []
  }
 ],
 "metadata": {
  "kernelspec": {
   "display_name": "Python 3",
   "language": "python",
   "name": "python3"
  },
  "language_info": {
   "codemirror_mode": {
    "name": "ipython",
    "version": 3
   },
   "file_extension": ".py",
   "mimetype": "text/x-python",
   "name": "python",
   "nbconvert_exporter": "python",
   "pygments_lexer": "ipython3",
   "version": "3.8.3"
  }
 },
 "nbformat": 4,
 "nbformat_minor": 4
}
