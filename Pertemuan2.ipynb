{
 "cells": [
  {
   "cell_type": "code",
   "execution_count": 3,
   "metadata": {},
   "outputs": [
    {
     "name": "stdout",
     "output_type": "stream",
     "text": [
      "1.9999999\n",
      "<class 'float'>\n",
      "1\n",
      "100\n",
      "<class 'int'>\n"
     ]
    }
   ],
   "source": [
    "#float to int\n",
    "x=1.9999999\n",
    "print(x)\n",
    "print(type(x))\n",
    "\n",
    "y=int(x)\n",
    "print(y)\n",
    "\n",
    "#int to float\n",
    "a=100\n",
    "print(a)\n",
    "print(type(a))"
   ]
  },
  {
   "cell_type": "code",
   "execution_count": 4,
   "metadata": {},
   "outputs": [
    {
     "name": "stdout",
     "output_type": "stream",
     "text": [
      "10\n",
      "3.141\n",
      "2\n"
     ]
    }
   ],
   "source": [
    "print(round(10))\n",
    "print(round(3.1413, 3))\n",
    "print(round(1.5))\n"
   ]
  },
  {
   "cell_type": "code",
   "execution_count": 7,
   "metadata": {},
   "outputs": [
    {
     "name": "stdin",
     "output_type": "stream",
     "text": [
      "Masukkan nama: coba\n"
     ]
    },
    {
     "name": "stdout",
     "output_type": "stream",
     "text": [
      "<class 'str'>\n",
      "Your name is coba\n"
     ]
    }
   ],
   "source": [
    "nama = input(\"Masukkan nama:\")\n",
    "print(type(nama))\n",
    "print(\"Your name is\" \" \"+ nama)"
   ]
  },
  {
   "cell_type": "code",
   "execution_count": null,
   "metadata": {},
   "outputs": [],
   "source": [
    "#If-Else Condition"
   ]
  },
  {
   "cell_type": "code",
   "execution_count": 9,
   "metadata": {},
   "outputs": [
    {
     "name": "stdout",
     "output_type": "stream",
     "text": [
      "a lebih kecil dari b\n"
     ]
    }
   ],
   "source": [
    "a = 9\n",
    "b = 11\n",
    "\n",
    "if a > b:\n",
    "    print(\"a lebih besar dari b\")\n",
    "else:\n",
    "    print (\"a lebih kecil dari b\")\n",
    "        \n",
    "    "
   ]
  },
  {
   "cell_type": "code",
   "execution_count": 12,
   "metadata": {},
   "outputs": [
    {
     "name": "stdout",
     "output_type": "stream",
     "text": [
      "a lebih besar dari b\n"
     ]
    }
   ],
   "source": [
    "a = 11\n",
    "b = 7\n",
    "\n",
    "if a > b:\n",
    "    print(\"a lebih besar dari b\")\n",
    "elif a==b:\n",
    "    print (\"a sama dengan b\")\n",
    "else:\n",
    "    print(\"a lebih kecil dari b\")"
   ]
  },
  {
   "cell_type": "code",
   "execution_count": 18,
   "metadata": {},
   "outputs": [
    {
     "name": "stdout",
     "output_type": "stream",
     "text": [
      "a lebih kecil dari b\n"
     ]
    }
   ],
   "source": [
    "a = \"aku\"\n",
    "b = \"kam\"\n",
    "\n",
    "if a > b:\n",
    "    print(\"a lebih besar dari b\")\n",
    "elif a==b:\n",
    "    print (\"a sama dengan b\")\n",
    "else:\n",
    "    print(\"a lebih kecil dari b\")"
   ]
  },
  {
   "cell_type": "code",
   "execution_count": null,
   "metadata": {},
   "outputs": [],
   "source": [
    "#For loop"
   ]
  },
  {
   "cell_type": "code",
   "execution_count": 19,
   "metadata": {},
   "outputs": [
    {
     "name": "stdout",
     "output_type": "stream",
     "text": [
      "apel\n",
      "jeruk\n",
      "mangga\n",
      "lemon\n",
      "salak\n",
      "5\n",
      "['apel', 'jeruk', 'mangga', 'lemon', 'salak']\n"
     ]
    }
   ],
   "source": [
    "nama_buah = [\"apel\", \"jeruk\", \"mangga\", \"lemon\", \"salak\"]\n",
    "\n",
    "print(nama_buah[0])\n",
    "print(nama_buah[1])\n",
    "print(nama_buah[2])\n",
    "print(nama_buah[3])\n",
    "print(nama_buah[4])\n",
    "print(len(nama_buah))\n",
    "print(nama_buah)"
   ]
  },
  {
   "cell_type": "code",
   "execution_count": 39,
   "metadata": {},
   "outputs": [
    {
     "name": "stdout",
     "output_type": "stream",
     "text": [
      "apel\n",
      "jeruk\n",
      "mangga\n",
      "lemon\n",
      "salak\n",
      "5\n",
      "['apel', 'jeruk', 'mangga', 'lemon', 'salak']\n",
      "apel\n",
      "jeruk\n",
      "mangga\n",
      "lemon\n",
      "salak\n"
     ]
    }
   ],
   "source": [
    "nama_buah = [\"apel\", \"jeruk\", \"mangga\", \"lemon\", \"salak\"]\n",
    "\n",
    "print(nama_buah[0])\n",
    "print(nama_buah[1])\n",
    "print(nama_buah[2])\n",
    "print(nama_buah[3])\n",
    "print(nama_buah[4])\n",
    "print(len(nama_buah))\n",
    "print(nama_buah)\n",
    "\n",
    "for buah in nama_buah:\n",
    "    print(buah)\n",
    "\n",
    "# print(\"done\")"
   ]
  },
  {
   "cell_type": "code",
   "execution_count": 21,
   "metadata": {},
   "outputs": [
    {
     "name": "stdout",
     "output_type": "stream",
     "text": [
      "v\n"
     ]
    }
   ],
   "source": [
    "nama = \"abcdevghijzx\"\n",
    "print(nama[5])"
   ]
  },
  {
   "cell_type": "code",
   "execution_count": 3,
   "metadata": {},
   "outputs": [
    {
     "name": "stdout",
     "output_type": "stream",
     "text": [
      "1 2 3 4 5  \n",
      "1 2 3 4 5  \n",
      "1 2 3 4 5  \n",
      "1 2 3 4 5  \n",
      "1 2 3 4 5  \n"
     ]
    }
   ],
   "source": [
    "rows =5\n",
    "for row in range(1,rows+1):\n",
    "    for column in range(1,rows+1):\n",
    "        print(column,end=' ')\n",
    "    print(\" \")\n"
   ]
  },
  {
   "cell_type": "code",
   "execution_count": null,
   "metadata": {},
   "outputs": [],
   "source": [
    "#For While"
   ]
  },
  {
   "cell_type": "code",
   "execution_count": 29,
   "metadata": {},
   "outputs": [
    {
     "name": "stdout",
     "output_type": "stream",
     "text": [
      "1\n",
      "2\n",
      "3\n",
      "4\n",
      "5\n",
      "6\n",
      "done\n"
     ]
    }
   ],
   "source": [
    "i=1\n",
    "while i<=6:\n",
    "    print(i)\n",
    "    i+=1\n",
    "\n",
    "print(\"done\")"
   ]
  },
  {
   "cell_type": "code",
   "execution_count": 35,
   "metadata": {},
   "outputs": [
    {
     "name": "stdout",
     "output_type": "stream",
     "text": [
      "1\n",
      "2\n",
      "3\n",
      "4\n",
      "5\n",
      "6\n",
      " \n",
      "1\n",
      "2\n",
      "3\n",
      "4\n",
      "5\n",
      "done\n"
     ]
    }
   ],
   "source": [
    "i=1\n",
    "while i<=6:\n",
    "    print(i)\n",
    "    i+=1\n",
    "    \n",
    "print (\" \")\n",
    "\n",
    "for x in range (1,6):\n",
    "    print(x)\n",
    "    \n",
    "print(\"done\")"
   ]
  },
  {
   "cell_type": "code",
   "execution_count": null,
   "metadata": {},
   "outputs": [],
   "source": [
    "#Break Pass"
   ]
  },
  {
   "cell_type": "code",
   "execution_count": 40,
   "metadata": {},
   "outputs": [
    {
     "name": "stdout",
     "output_type": "stream",
     "text": [
      "0\n",
      "1\n",
      "2\n",
      "3\n",
      "4\n"
     ]
    }
   ],
   "source": [
    "for i in range(5):\n",
    "    print(i)"
   ]
  },
  {
   "cell_type": "code",
   "execution_count": 41,
   "metadata": {},
   "outputs": [
    {
     "name": "stdout",
     "output_type": "stream",
     "text": [
      "0\n",
      "1\n",
      "2\n"
     ]
    }
   ],
   "source": [
    "for i in range(5):\n",
    "    if i == 3:\n",
    "        break\n",
    "    print(i)"
   ]
  },
  {
   "cell_type": "code",
   "execution_count": 45,
   "metadata": {},
   "outputs": [
    {
     "name": "stdin",
     "output_type": "stream",
     "text": [
      " tes\n"
     ]
    },
    {
     "name": "stdout",
     "output_type": "stream",
     "text": [
      "text: tes\n"
     ]
    },
    {
     "name": "stdin",
     "output_type": "stream",
     "text": [
      " stop\n"
     ]
    },
    {
     "name": "stdout",
     "output_type": "stream",
     "text": [
      "Program has stopped.\n"
     ]
    }
   ],
   "source": [
    "text = input()\n",
    "while True:\n",
    "    if text == \"stop\" or text == \"end\":\n",
    "        print(\"Program has stopped.\")\n",
    "        break\n",
    "    print(\"text: {}\".format(text))\n",
    "    text = input()"
   ]
  },
  {
   "cell_type": "code",
   "execution_count": null,
   "metadata": {},
   "outputs": [
    {
     "name": "stdin",
     "output_type": "stream",
     "text": [
      " coba\n"
     ]
    },
    {
     "name": "stdout",
     "output_type": "stream",
     "text": [
      "text: coba\n",
      "<class 'str'>\n"
     ]
    },
    {
     "name": "stdin",
     "output_type": "stream",
     "text": [
      " 10\n"
     ]
    },
    {
     "name": "stdout",
     "output_type": "stream",
     "text": [
      "text: 10\n",
      "<class 'str'>\n"
     ]
    },
    {
     "name": "stdin",
     "output_type": "stream",
     "text": [
      " 10+2\n"
     ]
    },
    {
     "name": "stdout",
     "output_type": "stream",
     "text": [
      "text: 10+2\n",
      "<class 'str'>\n"
     ]
    },
    {
     "name": "stdin",
     "output_type": "stream",
     "text": [
      " 5\n"
     ]
    },
    {
     "name": "stdout",
     "output_type": "stream",
     "text": [
      "text: 5\n",
      "<class 'str'>\n"
     ]
    }
   ],
   "source": [
    "text = input()\n",
    "while True:\n",
    "    if text == \"stop\" or text == \"end\":\n",
    "        print(\"Program has stopped.\")\n",
    "        break\n",
    "    print(\"text: {}\".format(text))\n",
    "    print(type(text))\n",
    "    text = input()"
   ]
  },
  {
   "cell_type": "code",
   "execution_count": null,
   "metadata": {},
   "outputs": [],
   "source": [
    "text = input()\n",
    "while True:\n",
    "    if text == \"stop\" or text == \"end\":\n",
    "        print(\"Program has stopped.\")\n",
    "        break\n",
    "    print(\"text: {}\".format(text))\n",
    "    print(type(text))\n",
    "    x = int(text)\n",
    "    print(type(x))\n",
    "    text = input()"
   ]
  }
 ],
 "metadata": {
  "kernelspec": {
   "display_name": "Python 3",
   "language": "python",
   "name": "python3"
  },
  "language_info": {
   "codemirror_mode": {
    "name": "ipython",
    "version": 3
   },
   "file_extension": ".py",
   "mimetype": "text/x-python",
   "name": "python",
   "nbconvert_exporter": "python",
   "pygments_lexer": "ipython3",
   "version": "3.8.3"
  }
 },
 "nbformat": 4,
 "nbformat_minor": 4
}
